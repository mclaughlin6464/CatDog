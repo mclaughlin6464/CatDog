{
 "cells": [
  {
   "cell_type": "code",
   "execution_count": 2,
   "metadata": {
    "collapsed": true
   },
   "outputs": [],
   "source": [
    "import numpy as np\n",
    "import pandas as pd\n",
    "import h5py\n",
    "from sklearn.neighbors import KDTree\n",
    "from sklearn.preprocessing import scale, StandardScaler"
   ]
  },
  {
   "cell_type": "code",
   "execution_count": 3,
   "metadata": {
    "collapsed": true
   },
   "outputs": [],
   "source": [
    "from matplotlib import pyplot as plt\n",
    "%matplotlib inline\n",
    "import seaborn as sns\n",
    "sns.set()"
   ]
  },
  {
   "cell_type": "code",
   "execution_count": 4,
   "metadata": {
    "collapsed": false
   },
   "outputs": [],
   "source": [
    "input_data = pd.read_hdf('small_input_data.hdf5', 'input1')\n",
    "output_data = pd.read_hdf('small_output_data.hdf5', 'output1')"
   ]
  },
  {
   "cell_type": "code",
   "execution_count": 5,
   "metadata": {
    "collapsed": false
   },
   "outputs": [
    {
     "data": {
      "text/plain": [
       "Index([u'decICRS', u'g_mag', u'i_mag', u'id', u'majorAxis', u'minorAxis',\n",
       "       u'positionAngle', u'r_mag', u'raICRS', u'redshift', u'sindex', u'u_mag',\n",
       "       u'y_mag', u'z_mag'],\n",
       "      dtype='object')"
      ]
     },
     "execution_count": 5,
     "metadata": {},
     "output_type": "execute_result"
    }
   ],
   "source": [
    "input_data.columns"
   ]
  },
  {
   "cell_type": "code",
   "execution_count": 6,
   "metadata": {
    "collapsed": false
   },
   "outputs": [],
   "source": [
    "scaler = StandardScaler()\n",
    "input_pos = scaler.fit_transform(np.c_[input_data['raICRS'], input_data['decICRS'], input_data['r_mag']])"
   ]
  },
  {
   "cell_type": "code",
   "execution_count": 7,
   "metadata": {
    "collapsed": false
   },
   "outputs": [
    {
     "data": {
      "text/plain": [
       "Index([u'id', u'coord_ra', u'coord_dec', u'parent', u'flags_negative',\n",
       "       u'merge_footprint_i', u'merge_footprint_r', u'merge_footprint_z',\n",
       "       u'merge_footprint_g', u'merge_footprint_y',\n",
       "       ...\n",
       "       u'base_GaussianFlux_apCorr', u'base_GaussianFlux_apCorrSigma',\n",
       "       u'base_GaussianFlux_flag_apCorr', u'modelfit_CModel_dev_apCorr',\n",
       "       u'modelfit_CModel_dev_apCorrSigma', u'modelfit_CModel_dev_flag_apCorr',\n",
       "       u'base_ClassificationExtendedness_value',\n",
       "       u'base_ClassificationExtendedness_flag', u'cmodelMag', u'psfMag'],\n",
       "      dtype='object', length=298)"
      ]
     },
     "execution_count": 7,
     "metadata": {},
     "output_type": "execute_result"
    }
   ],
   "source": [
    "output_data.columns"
   ]
  },
  {
   "cell_type": "code",
   "execution_count": 8,
   "metadata": {
    "collapsed": false
   },
   "outputs": [],
   "source": [
    "mask = ~np.isnan(output_data['cmodelMag'])\n",
    "\n",
    "output_data['coord_ra'] = output_data['coord_ra']*180.0/np.pi\n",
    "output_data['coord_dec'] = output_data['coord_dec']*180.0/np.pi\n",
    "\n",
    "output_data = output_data[mask]"
   ]
  },
  {
   "cell_type": "code",
   "execution_count": 9,
   "metadata": {
    "collapsed": false
   },
   "outputs": [],
   "source": [
    "output_pos = scaler.transform(np.c_[output_data['coord_ra'], output_data['coord_dec'], output_data['cmodelMag']])"
   ]
  },
  {
   "cell_type": "code",
   "execution_count": 10,
   "metadata": {
    "collapsed": true
   },
   "outputs": [],
   "source": [
    "tree = KDTree(input_pos)"
   ]
  },
  {
   "cell_type": "code",
   "execution_count": 11,
   "metadata": {
    "collapsed": false
   },
   "outputs": [],
   "source": [
    "k = 20\n",
    "dist, ind = tree.query(output_pos, k = k)"
   ]
  },
  {
   "cell_type": "code",
   "execution_count": 12,
   "metadata": {
    "collapsed": false
   },
   "outputs": [],
   "source": [
    "_dist = np.core.records.fromarrays(dist.transpose(),\\\n",
    "                                  names = ', '.join(['d%d'%i for i in xrange(k)]),\n",
    "                                  formats = ', '.join(['f4' for i in xrange(k)]) )\n",
    "#dist.shape, dist.dtype\n",
    "sort_dist_idxs = np.argsort(_dist, order = tuple(['d%d'%i for i in xrange(k)]))\n",
    "# now i have all distances, sorted in order by closest, then next closest, etc."
   ]
  },
  {
   "cell_type": "code",
   "execution_count": 13,
   "metadata": {
    "collapsed": true
   },
   "outputs": [],
   "source": [
    "matched_input_idxs_and_dists = np.zeros((output_pos.shape[0],2))\n",
    "used_input_idxs = set()"
   ]
  },
  {
   "cell_type": "code",
   "execution_count": 14,
   "metadata": {
    "collapsed": false
   },
   "outputs": [],
   "source": [
    "from itertools import izip\n",
    "for out_idx, (d, in_idx) in enumerate(izip(dist[sort_dist_idxs], ind[sort_dist_idxs])):\n",
    "    for pair_d, ii in izip(d, in_idx):\n",
    "        if ii not in used_input_idxs:\n",
    "            matched_input_idxs_and_dists[sort_dist_idxs[out_idx], 0] = ii\n",
    "            matched_input_idxs_and_dists[sort_dist_idxs[out_idx], 1] = pair_d\n",
    "            used_input_idxs.add(ii)\n",
    "            break\n",
    "    else: #no match in k\n",
    "        matched_input_idxs_and_dists[sort_dist_idxs[out_idx], 0] = -1\n",
    "        matched_input_idxs_and_dists[sort_dist_idxs[out_idx], 1] = np.inf\n"
   ]
  },
  {
   "cell_type": "code",
   "execution_count": 15,
   "metadata": {
    "collapsed": false
   },
   "outputs": [
    {
     "name": "stdout",
     "output_type": "stream",
     "text": [
      "770942 (875014, 2)\n"
     ]
    }
   ],
   "source": [
    "print len(used_input_idxs), matched_input_idxs_and_dists.shape"
   ]
  },
  {
   "cell_type": "code",
   "execution_count": 16,
   "metadata": {
    "collapsed": false
   },
   "outputs": [
    {
     "data": {
      "text/plain": [
       "<matplotlib.text.Text at 0x7fab8182f710>"
      ]
     },
     "execution_count": 16,
     "metadata": {},
     "output_type": "execute_result"
    },
    {
     "data": {
      "image/png": "[encoded data removed]",
      "text/plain": [
       "<matplotlib.figure.Figure at 0x7fab819c9a90>"
      ]
     },
     "metadata": {},
     "output_type": "display_data"
    }
   ],
   "source": [
    "plt.hist(matched_input_idxs_and_dists[matched_input_idxs_and_dists[:,0]!=-1,1],bins = np.linspace(0,0.5,21));\n",
    "plt.vlines(np.percentile(matched_input_idxs_and_dists[matched_input_idxs_and_dists[:,0]!=-1,1], [75]), 0, 5e5)\n",
    "plt.yscale('log')\n",
    "plt.xlabel('Distance in ra-dec-mag space')\n",
    "plt.title('Distribution of smallest distance between observed/theory pairs, with 75th percentile')"
   ]
  },
  {
   "cell_type": "code",
   "execution_count": 16,
   "metadata": {
    "collapsed": false
   },
   "outputs": [],
   "source": [
    "mask = matched_input_idxs_and_dists[:,1] <= \\\n",
    "        np.percentile(matched_input_idxs_and_dists[matched_input_idxs_and_dists[:,0]!=-1,1], 75)"
   ]
  },
  {
   "cell_type": "code",
   "execution_count": 17,
   "metadata": {
    "collapsed": false
   },
   "outputs": [
    {
     "data": {
      "text/plain": [
       "578206"
      ]
     },
     "execution_count": 17,
     "metadata": {},
     "output_type": "execute_result"
    }
   ],
   "source": [
    "np.sum(mask)"
   ]
  },
  {
   "cell_type": "code",
   "execution_count": 18,
   "metadata": {
    "collapsed": false,
    "scrolled": true
   },
   "outputs": [],
   "source": [
    "cut_output_data = output_data.iloc[mask]\n",
    "cut_input_data = input_data.iloc[matched_input_idxs_and_dists[mask,0].astype(int)]"
   ]
  },
  {
   "cell_type": "raw",
   "metadata": {},
   "source": [
    "#plt.scatter(matched_input_idxs_and_dists[:, 1], output_data['cmodelMag'], alpha = 0.3)\n",
    "#plt.vlines(np.percentile(matched_input_idxs_and_dists[matched_input_idxs_and_dists[:,0]!=-1,1], [75]), 0, 35)\n",
    "sns.jointplot(np.log10(matched_input_idxs_and_dists[matched_input_idxs_and_dists[:,0]!=-1, 1]),\\\n",
    "              np.log10(output_data['cmodelMag'][matched_input_idxs_and_dists[:,0]!=-1]),\n",
    "                     kind=\"kde\", space=0, color=\"g\")\n",
    "#plt.xscale('log')\n",
    "#plt.xlim(1e-5, 1e0)"
   ]
  },
  {
   "cell_type": "raw",
   "metadata": {
    "collapsed": false
   },
   "source": [
    "plt.scatter(cut_output_data['coord_ra'], cut_output_data['coord_dec'], alpha = 0.3)\n",
    "\n",
    "plt.scatter(cut_input_data['raICRS'], cut_input_data['decICRS'], alpha = 0.6, color = 'g')\n",
    "\n",
    "for inra,indec, outra,outdec in zip(cut_input_data['raICRS'], cut_input_data['decICRS'],\\\n",
    "                                    cut_output_data['coord_ra'], cut_output_data['coord_dec'] ):\n",
    "\n",
    "    \n",
    "    plt.plot([outra,inra], [outdec,indec], color = 'r', lw = 1.5)\n",
    "\n",
    "\n",
    "plt.xlim([90.25, 90.5])\n",
    "plt.ylim([-27.25, -27.5]);"
   ]
  },
  {
   "cell_type": "code",
   "execution_count": 19,
   "metadata": {
    "collapsed": false
   },
   "outputs": [
    {
     "data": {
      "text/plain": [
       "578206"
      ]
     },
     "execution_count": 19,
     "metadata": {},
     "output_type": "execute_result"
    }
   ],
   "source": [
    "len(cut_output_data)"
   ]
  },
  {
   "cell_type": "code",
   "execution_count": 20,
   "metadata": {
    "collapsed": false
   },
   "outputs": [
    {
     "name": "stderr",
     "output_type": "stream",
     "text": [
      "/u/ki/swmclau2/.conda/envs/hodemulator/lib/python2.7/site-packages/pandas/io/pytables.py:260: PerformanceWarning: \n",
      "your performance may suffer as PyTables will pickle object types that it cannot\n",
      "map directly to c-types [inferred_type->unicode,key->axis0] [items->None]\n",
      "\n",
      "  f(store)\n",
      "/u/ki/swmclau2/.conda/envs/hodemulator/lib/python2.7/site-packages/pandas/io/pytables.py:260: PerformanceWarning: \n",
      "your performance may suffer as PyTables will pickle object types that it cannot\n",
      "map directly to c-types [inferred_type->unicode,key->block0_items] [items->None]\n",
      "\n",
      "  f(store)\n",
      "/u/ki/swmclau2/.conda/envs/hodemulator/lib/python2.7/site-packages/pandas/io/pytables.py:260: PerformanceWarning: \n",
      "your performance may suffer as PyTables will pickle object types that it cannot\n",
      "map directly to c-types [inferred_type->unicode,key->block1_items] [items->None]\n",
      "\n",
      "  f(store)\n"
     ]
    }
   ],
   "source": [
    "cut_output_data.to_hdf('matched_output_data.hdf5', key = 'output1')\n",
    "cut_input_data.to_hdf('matched_input_data.hdf5', key = 'input1')"
   ]
  },
  {
   "cell_type": "code",
   "execution_count": null,
   "metadata": {
    "collapsed": true
   },
   "outputs": [],
   "source": []
  }
 ],
 "metadata": {
  "kernelspec": {
   "display_name": "Python [conda env:hodemulator]",
   "language": "python",
   "name": "conda-env-hodemulator-py"
  },
  "language_info": {
   "codemirror_mode": {
    "name": "ipython",
    "version": 2
   },
   "file_extension": ".py",
   "mimetype": "text/x-python",
   "name": "python",
   "nbconvert_exporter": "python",
   "pygments_lexer": "ipython2",
   "version": "2.7.13"
  }
 },
 "nbformat": 4,
 "nbformat_minor": 0
}
